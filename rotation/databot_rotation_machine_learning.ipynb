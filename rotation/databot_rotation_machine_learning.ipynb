{
 "cells": [
  {
   "cell_type": "markdown",
   "id": "e43f4af5",
   "metadata": {},
   "source": [
    "# Rotation detection using Machine Learning and the databot2.0"
   ]
  },
  {
   "cell_type": "markdown",
   "id": "0d39930a",
   "metadata": {
    "heading_collapsed": true
   },
   "source": [
    "## Imports"
   ]
  },
  {
   "cell_type": "code",
   "execution_count": null,
   "id": "67fe8389",
   "metadata": {
    "hidden": true
   },
   "outputs": [],
   "source": [
    "import pandas as pd\n",
    "import seaborn as sns\n",
    "from sklearn.model_selection import train_test_split\n",
    "from sklearn.ensemble import RandomForestClassifier\n",
    "from sklearn.metrics import accuracy_score"
   ]
  },
  {
   "cell_type": "markdown",
   "id": "f45a1330",
   "metadata": {
    "heading_collapsed": true
   },
   "source": [
    "## Gather / Collect Data"
   ]
  },
  {
   "cell_type": "markdown",
   "id": "a7f773b4-d417-4a57-84b9-ed0b61db43e5",
   "metadata": {},
   "source": [
    "## Execute rotational_data_collector.py script"
   ]
  },
  {
   "cell_type": "markdown",
   "id": "6b8bd70a-46cc-425f-b502-5046ec46d73d",
   "metadata": {
    "hidden": true
   },
   "source": [
    "We will need to collect rotational data for the follow targets:\n",
    "\n",
    "* stationary\n",
    "* pendulum\n",
    "* vertical\n",
    "* horizontal"
   ]
  },
  {
   "cell_type": "markdown",
   "id": "cfdefccb",
   "metadata": {
    "heading_collapsed": true
   },
   "source": [
    "## Explore and Visualize Data"
   ]
  },
  {
   "cell_type": "code",
   "execution_count": null,
   "id": "2d9ed169",
   "metadata": {
    "hidden": true
   },
   "outputs": [],
   "source": [
    "df_steady = pd.read_json(\"./data/steady.txt\", lines=True)\n",
    "df_pendulum = pd.read_json(\"./data/pendulum.txt\", lines=True)\n",
    "df_horizontal = pd.read_json(\"./data/horizontal.txt\", lines=True)\n",
    "df_vertical = pd.read_json(\"./data/vertical.txt\", lines=True)\n"
   ]
  },
  {
   "cell_type": "code",
   "execution_count": null,
   "id": "c4244e63-ca28-462f-a23f-0df9c3aa0388",
   "metadata": {},
   "outputs": [],
   "source": [
    "df_steady.shape"
   ]
  },
  {
   "cell_type": "code",
   "execution_count": null,
   "id": "028b15a5-35e3-4876-a5b2-2600f6205e58",
   "metadata": {},
   "outputs": [],
   "source": [
    "df_pendulum.shape"
   ]
  },
  {
   "cell_type": "code",
   "execution_count": null,
   "id": "81dd6edf-7ccc-4bd3-8e94-9c2482fb0871",
   "metadata": {},
   "outputs": [],
   "source": [
    "df_horizontal.shape"
   ]
  },
  {
   "cell_type": "code",
   "execution_count": null,
   "id": "194a8dcf-76c3-43b3-b715-5f0784339785",
   "metadata": {},
   "outputs": [],
   "source": [
    "df_vertical.shape"
   ]
  },
  {
   "cell_type": "code",
   "execution_count": null,
   "id": "0d9e144b-b422-4d3d-8075-5876915d8e37",
   "metadata": {},
   "outputs": [],
   "source": [
    "# Merge all of the separate dataframes into a single dataframe\n",
    "df = pd.concat([df_steady, df_pendulum, df_horizontal, df_vertical])\n"
   ]
  },
  {
   "cell_type": "code",
   "execution_count": null,
   "id": "d377f22d-5749-4a27-8151-edb39ae329a3",
   "metadata": {},
   "outputs": [],
   "source": [
    "df.shape"
   ]
  },
  {
   "cell_type": "code",
   "execution_count": null,
   "id": "79c21824-0cee-4d3f-8c2f-9cea1b20081a",
   "metadata": {},
   "outputs": [],
   "source": [
    "df.info()"
   ]
  },
  {
   "cell_type": "markdown",
   "id": "2f48bfcc-5da7-454c-878b-5218184a2019",
   "metadata": {},
   "source": [
    "As we would expect, there are no missing values and no Strings.  Each column is made up of numbers"
   ]
  },
  {
   "cell_type": "code",
   "execution_count": null,
   "id": "afe104c9-1fe8-4fb7-9952-7f32f1e50e9f",
   "metadata": {},
   "outputs": [],
   "source": [
    "df.head()"
   ]
  },
  {
   "cell_type": "code",
   "execution_count": null,
   "id": "28dfce90-5420-4c9e-b6b1-148cb0292a5e",
   "metadata": {},
   "outputs": [],
   "source": [
    "df.tail()"
   ]
  },
  {
   "cell_type": "code",
   "execution_count": null,
   "id": "96ee2a6f-fea4-4906-a4c0-d6da5727de9b",
   "metadata": {},
   "outputs": [],
   "source": []
  },
  {
   "cell_type": "markdown",
   "id": "5188976a",
   "metadata": {
    "heading_collapsed": true,
    "hidden": true
   },
   "source": [
    "### Visualizations"
   ]
  },
  {
   "cell_type": "code",
   "execution_count": null,
   "id": "587f99ed-b2f5-4078-b449-297fc09844f8",
   "metadata": {},
   "outputs": [],
   "source": [
    "# Add a name column to make labeling easier\n",
    "df['rotation_name'] = df['rotation'].map({0:'steady', 1:'pendulum', 2:'horizontal', 3:'vertical'})"
   ]
  },
  {
   "cell_type": "markdown",
   "id": "5039c110-0ad0-4760-9693-54dd86c835dc",
   "metadata": {},
   "source": [
    "### Visualize the Acceleration X data\n"
   ]
  },
  {
   "cell_type": "code",
   "execution_count": null,
   "id": "8c70fb63",
   "metadata": {
    "hidden": true
   },
   "outputs": [],
   "source": [
    "sns.scatterplot(data=df, x='time', y='linear_acceleration_x', hue='rotation_name', alpha=0.2, palette=['green', 'orange', 'dodgerblue', 'red'] )\n"
   ]
  },
  {
   "cell_type": "markdown",
   "id": "2b85dd3a-09bb-4874-a68b-5095ba8f198c",
   "metadata": {},
   "source": [
    "### Visualize the Acceleration Y data\n"
   ]
  },
  {
   "cell_type": "code",
   "execution_count": null,
   "id": "2b8dd28d-ac58-4e31-9670-2342cc7514ce",
   "metadata": {},
   "outputs": [],
   "source": [
    "sns.scatterplot(data=df, x='time', y='linear_acceleration_y', hue='rotation_name', alpha=0.2, palette=['green', 'orange', 'dodgerblue', 'red'] )"
   ]
  },
  {
   "cell_type": "markdown",
   "id": "83e25b70-09d2-4f05-a22a-fd282fa40d07",
   "metadata": {},
   "source": [
    "### Visualize the Acceleration Z data\n"
   ]
  },
  {
   "cell_type": "code",
   "execution_count": null,
   "id": "79eacbf1-20b6-427a-b948-f1349e1243ba",
   "metadata": {},
   "outputs": [],
   "source": [
    "sns.scatterplot(data=df, x='time', y='linear_acceleration_z', hue='rotation_name', alpha=0.2, palette=['green', 'orange', 'dodgerblue', 'red'] )"
   ]
  },
  {
   "cell_type": "markdown",
   "id": "c41855b3-85ee-48d1-83d5-9a9c30055585",
   "metadata": {},
   "source": [
    "### Visualize the Gyroscope X data"
   ]
  },
  {
   "cell_type": "code",
   "execution_count": null,
   "id": "22a8b3bc-988e-46ea-a86d-b8f3c683a042",
   "metadata": {},
   "outputs": [],
   "source": [
    "sns.scatterplot(data=df, x='time', y='gyro_x', hue='rotation_name', alpha=0.2, palette=['green', 'orange', 'dodgerblue', 'red'] )"
   ]
  },
  {
   "cell_type": "markdown",
   "id": "3317b28e-9acd-4a5c-a878-d0a964b27eb9",
   "metadata": {},
   "source": [
    "### Visualize the Gyroscope Y data"
   ]
  },
  {
   "cell_type": "code",
   "execution_count": null,
   "id": "c4b64517-1340-4b6d-95e9-8579d8afa17b",
   "metadata": {},
   "outputs": [],
   "source": [
    "sns.scatterplot(data=df, x='time', y='gyro_y', hue='rotation_name', alpha=0.2, palette=['green', 'orange', 'dodgerblue', 'red'] )"
   ]
  },
  {
   "cell_type": "markdown",
   "id": "c78e7ea3-cf8a-49a1-b6b2-faa71b9e330b",
   "metadata": {},
   "source": [
    "### Visualize the Gyroscope Z data"
   ]
  },
  {
   "cell_type": "code",
   "execution_count": null,
   "id": "bef64223-5e8b-4cdf-b045-c2f51cc7c9a2",
   "metadata": {},
   "outputs": [],
   "source": [
    "sns.scatterplot(data=df, x='time', y='gyro_z', hue='rotation_name', alpha=0.2, palette=['green', 'orange', 'dodgerblue', 'red'] )"
   ]
  },
  {
   "cell_type": "markdown",
   "id": "273147e8-7d18-4e7a-aafb-9ee1bc3147b5",
   "metadata": {},
   "source": [
    "### Absolute Linear Acceleration"
   ]
  },
  {
   "cell_type": "code",
   "execution_count": null,
   "id": "f378a5b7-a664-47c9-9b93-e9253fb09738",
   "metadata": {},
   "outputs": [],
   "source": [
    "sns.scatterplot(data=df, x='time', y='absolute_linear_acceleration', hue='rotation_name', alpha=0.2, palette=['green', 'orange', 'dodgerblue', 'red'] )"
   ]
  },
  {
   "cell_type": "code",
   "execution_count": null,
   "id": "68b1c2e1-a297-45cc-8efb-bdbeb7e7e785",
   "metadata": {},
   "outputs": [],
   "source": []
  },
  {
   "cell_type": "code",
   "execution_count": null,
   "id": "bdb7327d-5484-4353-ae86-835f3aee6a2a",
   "metadata": {},
   "outputs": [],
   "source": []
  },
  {
   "cell_type": "markdown",
   "id": "9b9bd76e",
   "metadata": {
    "heading_collapsed": true
   },
   "source": [
    "## Prepare Data"
   ]
  },
  {
   "cell_type": "markdown",
   "id": "1311c51e",
   "metadata": {
    "hidden": true
   },
   "source": [
    "Some machine learning models will need us to scale the values to the same range.  \n",
    "\n",
    "RandomForestClassifier does not have that restriction\n",
    "\n",
    "Because we have no missing data values and all of the values are numeric, there really is no significant data preparation that needs to be done.\n",
    "\n",
    "Keep in mind... if we had picked a model other an a Tree based model, then we would have to scale the input values"
   ]
  },
  {
   "cell_type": "code",
   "execution_count": null,
   "id": "d3cc69dd-4628-4b75-ac30-74796720396a",
   "metadata": {},
   "outputs": [],
   "source": [
    "y = df['rotation']\n",
    "X = df.drop(columns=['rotation', 'time', 'timestamp', 'rotation_name'])"
   ]
  },
  {
   "cell_type": "code",
   "execution_count": null,
   "id": "9fc6d73b-7f71-4bef-868c-8ab482c44c67",
   "metadata": {},
   "outputs": [],
   "source": []
  },
  {
   "cell_type": "code",
   "execution_count": null,
   "id": "6e12c98e",
   "metadata": {
    "hidden": true
   },
   "outputs": [],
   "source": [
    "X.shape"
   ]
  },
  {
   "cell_type": "code",
   "execution_count": null,
   "id": "d7c33b8b",
   "metadata": {
    "hidden": true
   },
   "outputs": [],
   "source": [
    "y.shape"
   ]
  },
  {
   "cell_type": "code",
   "execution_count": null,
   "id": "c07b65c4",
   "metadata": {
    "hidden": true
   },
   "outputs": [],
   "source": [
    "from sklearn.model_selection import train_test_split"
   ]
  },
  {
   "cell_type": "code",
   "execution_count": null,
   "id": "9081ca68",
   "metadata": {
    "hidden": true
   },
   "outputs": [],
   "source": [
    "X_train, X_test, y_train, y_test = train_test_split(X, y, test_size=0.2, stratify=y, shuffle=True)"
   ]
  },
  {
   "cell_type": "code",
   "execution_count": null,
   "id": "21aa5260",
   "metadata": {
    "hidden": true
   },
   "outputs": [],
   "source": []
  },
  {
   "cell_type": "markdown",
   "id": "4077e1ca",
   "metadata": {
    "heading_collapsed": true
   },
   "source": [
    "## Train a Machine Learning Model"
   ]
  },
  {
   "cell_type": "code",
   "execution_count": null,
   "id": "5a66cd95",
   "metadata": {
    "hidden": true
   },
   "outputs": [],
   "source": [
    "model = RandomForestClassifier()"
   ]
  },
  {
   "cell_type": "code",
   "execution_count": null,
   "id": "76c092e6",
   "metadata": {
    "hidden": true
   },
   "outputs": [],
   "source": [
    "model.fit(X_train, y_train)"
   ]
  },
  {
   "cell_type": "code",
   "execution_count": null,
   "id": "7372b064",
   "metadata": {
    "hidden": true
   },
   "outputs": [],
   "source": [
    "y_pred_train = model.predict(X_train)\n"
   ]
  },
  {
   "cell_type": "code",
   "execution_count": null,
   "id": "2eacdf83",
   "metadata": {
    "hidden": true
   },
   "outputs": [],
   "source": [
    "accuracy_score(y_train, y_pred_train)\n"
   ]
  },
  {
   "cell_type": "code",
   "execution_count": null,
   "id": "4f2a9238",
   "metadata": {
    "hidden": true
   },
   "outputs": [],
   "source": []
  },
  {
   "cell_type": "markdown",
   "id": "b9312824",
   "metadata": {
    "heading_collapsed": true
   },
   "source": [
    "## Test Machine Learning Model"
   ]
  },
  {
   "cell_type": "code",
   "execution_count": null,
   "id": "6c663f16",
   "metadata": {
    "hidden": true
   },
   "outputs": [],
   "source": [
    "y_pred_test = model.predict(X_test)"
   ]
  },
  {
   "cell_type": "code",
   "execution_count": null,
   "id": "a823b73f",
   "metadata": {
    "hidden": true
   },
   "outputs": [],
   "source": [
    "accuracy_score(y_test, y_pred_test)"
   ]
  },
  {
   "cell_type": "markdown",
   "id": "e4ed65cf",
   "metadata": {
    "hidden": true
   },
   "source": [
    "### What were the most important features to the RandomForestClassifier model"
   ]
  },
  {
   "cell_type": "code",
   "execution_count": null,
   "id": "80efa670",
   "metadata": {
    "hidden": true
   },
   "outputs": [],
   "source": [
    "importance_list = []\n",
    "\n",
    "for tup in zip(X_train.columns, model.feature_importances_):\n",
    "    \n",
    "    importance_list.append(tup) \n",
    "sorted_importance_list = sorted(importance_list, key=lambda tup: tup[1], reverse = True)\n",
    "sorted_importance_list[0:10]"
   ]
  },
  {
   "cell_type": "code",
   "execution_count": null,
   "id": "bb8300fc",
   "metadata": {
    "hidden": true
   },
   "outputs": [],
   "source": []
  },
  {
   "cell_type": "markdown",
   "id": "ba4a4464",
   "metadata": {
    "heading_collapsed": true
   },
   "source": [
    "## Make Predictions on new data"
   ]
  },
  {
   "cell_type": "markdown",
   "id": "f30ce129",
   "metadata": {
    "hidden": true
   },
   "source": [
    "Before we make predictions on new data, we would like to re-train the model on all of the collected data."
   ]
  },
  {
   "cell_type": "code",
   "execution_count": null,
   "id": "97dd733d",
   "metadata": {
    "hidden": true
   },
   "outputs": [],
   "source": [
    "model = RandomForestClassifier()"
   ]
  },
  {
   "cell_type": "code",
   "execution_count": null,
   "id": "3edf607b",
   "metadata": {
    "hidden": true
   },
   "outputs": [],
   "source": [
    "model.fit(X,y)"
   ]
  },
  {
   "cell_type": "code",
   "execution_count": null,
   "id": "b4f148f5",
   "metadata": {
    "hidden": true
   },
   "outputs": [],
   "source": [
    "# Save the model so we can use it to autonmously drive the car\n",
    "import joblib\n",
    "\n",
    "joblib.dump(model, \"./rotation_detector_model.sav\")\n"
   ]
  },
  {
   "cell_type": "markdown",
   "id": "1308845a",
   "metadata": {
    "hidden": true
   },
   "source": [
    "Let's go write a new script to read new data from the databot and use the model to make new predictions."
   ]
  },
  {
   "cell_type": "code",
   "execution_count": null,
   "id": "25216817",
   "metadata": {
    "hidden": true
   },
   "outputs": [],
   "source": []
  }
 ],
 "metadata": {
  "kernelspec": {
   "display_name": "Python 3 (ipykernel)",
   "language": "python",
   "name": "python3"
  },
  "language_info": {
   "codemirror_mode": {
    "name": "ipython",
    "version": 3
   },
   "file_extension": ".py",
   "mimetype": "text/x-python",
   "name": "python",
   "nbconvert_exporter": "python",
   "pygments_lexer": "ipython3",
   "version": "3.11.3"
  },
  "toc": {
   "base_numbering": 1,
   "nav_menu": {},
   "number_sections": true,
   "sideBar": true,
   "skip_h1_title": false,
   "title_cell": "Table of Contents",
   "title_sidebar": "Contents",
   "toc_cell": false,
   "toc_position": {},
   "toc_section_display": true,
   "toc_window_display": false
  }
 },
 "nbformat": 4,
 "nbformat_minor": 5
}
