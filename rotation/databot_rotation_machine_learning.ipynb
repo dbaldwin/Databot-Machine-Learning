{
 "cells": [
  {
   "cell_type": "markdown",
   "id": "e43f4af5",
   "metadata": {},
   "source": [
    "# Rotation detection using Machine Learning and the databot2.0"
   ]
  },
  {
   "cell_type": "markdown",
   "id": "0d39930a",
   "metadata": {
    "heading_collapsed": true
   },
   "source": [
    "## Imports"
   ]
  },
  {
   "cell_type": "code",
   "execution_count": 2,
   "id": "67fe8389",
   "metadata": {
    "hidden": true
   },
   "outputs": [],
   "source": [
    "import pandas as pd\n",
    "import seaborn as sns\n",
    "from sklearn.model_selection import train_test_split\n",
    "from sklearn.ensemble import RandomForestClassifier\n",
    "from sklearn.metrics import accuracy_score"
   ]
  },
  {
   "cell_type": "markdown",
   "id": "f45a1330",
   "metadata": {
    "heading_collapsed": true
   },
   "source": [
    "# Gather / Collect Data"
   ]
  },
  {
   "cell_type": "markdown",
   "id": "a7f773b4-d417-4a57-84b9-ed0b61db43e5",
   "metadata": {},
   "source": [
    "## Execute rotational_data_collector.py script"
   ]
  },
  {
   "cell_type": "markdown",
   "id": "6b8bd70a-46cc-425f-b502-5046ec46d73d",
   "metadata": {
    "hidden": true
   },
   "source": [
    "We will need to collect rotational data for the follow targets:\n",
    "\n",
    "* stationary\n",
    "* pendulum\n",
    "* vertical\n",
    "* horizontal"
   ]
  },
  {
   "cell_type": "markdown",
   "id": "cfdefccb",
   "metadata": {
    "heading_collapsed": true
   },
   "source": [
    "# Explore and Visualize Data"
   ]
  },
  {
   "cell_type": "code",
   "execution_count": 3,
   "id": "2d9ed169",
   "metadata": {
    "hidden": true
   },
   "outputs": [],
   "source": [
    "df_steady = pd.read_json(\"./data2/steady.txt\", lines=True)\n",
    "df_pendulum = pd.read_json(\"./data2/pendulum.txt\", lines=True)\n",
    "df_horizontal = pd.read_json(\"./data2/horizontal.txt\", lines=True)\n",
    "df_vertical = pd.read_json(\"./data2/vertical.txt\", lines=True)\n"
   ]
  },
  {
   "cell_type": "code",
   "execution_count": 11,
   "id": "c4244e63-ca28-462f-a23f-0df9c3aa0388",
   "metadata": {},
   "outputs": [
    {
     "data": {
      "text/plain": [
       "(1000, 7)"
      ]
     },
     "execution_count": 11,
     "metadata": {},
     "output_type": "execute_result"
    }
   ],
   "source": [
    "df_steady.shape"
   ]
  },
  {
   "cell_type": "code",
   "execution_count": 12,
   "id": "028b15a5-35e3-4876-a5b2-2600f6205e58",
   "metadata": {},
   "outputs": [
    {
     "data": {
      "text/plain": [
       "(1000, 7)"
      ]
     },
     "execution_count": 12,
     "metadata": {},
     "output_type": "execute_result"
    }
   ],
   "source": [
    "df_pendulum.shape"
   ]
  },
  {
   "cell_type": "code",
   "execution_count": 13,
   "id": "81dd6edf-7ccc-4bd3-8e94-9c2482fb0871",
   "metadata": {},
   "outputs": [
    {
     "data": {
      "text/plain": [
       "(1000, 7)"
      ]
     },
     "execution_count": 13,
     "metadata": {},
     "output_type": "execute_result"
    }
   ],
   "source": [
    "df_horizontal.shape"
   ]
  },
  {
   "cell_type": "code",
   "execution_count": 14,
   "id": "194a8dcf-76c3-43b3-b715-5f0784339785",
   "metadata": {},
   "outputs": [
    {
     "data": {
      "text/plain": [
       "(1000, 7)"
      ]
     },
     "execution_count": 14,
     "metadata": {},
     "output_type": "execute_result"
    }
   ],
   "source": [
    "df_vertical.shape"
   ]
  },
  {
   "cell_type": "code",
   "execution_count": 15,
   "id": "0d9e144b-b422-4d3d-8075-5876915d8e37",
   "metadata": {},
   "outputs": [],
   "source": [
    "# Merge all of the separate dataframes into a single dataframe\n",
    "df = pd.concat([df_steady, df_pendulum, df_horizontal, df_vertical])\n"
   ]
  },
  {
   "cell_type": "code",
   "execution_count": 16,
   "id": "d377f22d-5749-4a27-8151-edb39ae329a3",
   "metadata": {},
   "outputs": [
    {
     "data": {
      "text/plain": [
       "(4000, 7)"
      ]
     },
     "execution_count": 16,
     "metadata": {},
     "output_type": "execute_result"
    }
   ],
   "source": [
    "df.shape"
   ]
  },
  {
   "cell_type": "code",
   "execution_count": 17,
   "id": "79c21824-0cee-4d3f-8c2f-9cea1b20081a",
   "metadata": {},
   "outputs": [
    {
     "name": "stdout",
     "output_type": "stream",
     "text": [
      "<class 'pandas.core.frame.DataFrame'>\n",
      "Index: 4000 entries, 0 to 999\n",
      "Data columns (total 7 columns):\n",
      " #   Column                        Non-Null Count  Dtype         \n",
      "---  ------                        --------------  -----         \n",
      " 0   time                          4000 non-null   float64       \n",
      " 1   linear_acceleration_x         4000 non-null   float64       \n",
      " 2   linear_acceleration_y         4000 non-null   float64       \n",
      " 3   linear_acceleration_z         4000 non-null   float64       \n",
      " 4   absolute_linear_acceleration  4000 non-null   float64       \n",
      " 5   timestamp                     4000 non-null   datetime64[ns]\n",
      " 6   rotation                      4000 non-null   int64         \n",
      "dtypes: datetime64[ns](1), float64(5), int64(1)\n",
      "memory usage: 250.0 KB\n"
     ]
    }
   ],
   "source": [
    "df.info()"
   ]
  },
  {
   "cell_type": "markdown",
   "id": "2f48bfcc-5da7-454c-878b-5218184a2019",
   "metadata": {},
   "source": [
    "As we would expect, there are no missing values and no Strings.  Each column is made up of numbers"
   ]
  },
  {
   "cell_type": "code",
   "execution_count": 18,
   "id": "afe104c9-1fe8-4fb7-9952-7f32f1e50e9f",
   "metadata": {},
   "outputs": [
    {
     "data": {
      "text/html": [
       "<div>\n",
       "<style scoped>\n",
       "    .dataframe tbody tr th:only-of-type {\n",
       "        vertical-align: middle;\n",
       "    }\n",
       "\n",
       "    .dataframe tbody tr th {\n",
       "        vertical-align: top;\n",
       "    }\n",
       "\n",
       "    .dataframe thead th {\n",
       "        text-align: right;\n",
       "    }\n",
       "</style>\n",
       "<table border=\"1\" class=\"dataframe\">\n",
       "  <thead>\n",
       "    <tr style=\"text-align: right;\">\n",
       "      <th></th>\n",
       "      <th>time</th>\n",
       "      <th>linear_acceleration_x</th>\n",
       "      <th>linear_acceleration_y</th>\n",
       "      <th>linear_acceleration_z</th>\n",
       "      <th>absolute_linear_acceleration</th>\n",
       "      <th>timestamp</th>\n",
       "      <th>rotation</th>\n",
       "    </tr>\n",
       "  </thead>\n",
       "  <tbody>\n",
       "    <tr>\n",
       "      <th>0</th>\n",
       "      <td>0.2</td>\n",
       "      <td>0.26</td>\n",
       "      <td>-0.00</td>\n",
       "      <td>-0.07</td>\n",
       "      <td>0.27</td>\n",
       "      <td>2023-09-27 20:51:55.672769024</td>\n",
       "      <td>0</td>\n",
       "    </tr>\n",
       "    <tr>\n",
       "      <th>1</th>\n",
       "      <td>0.4</td>\n",
       "      <td>0.02</td>\n",
       "      <td>-0.13</td>\n",
       "      <td>-0.08</td>\n",
       "      <td>0.16</td>\n",
       "      <td>2023-09-27 20:51:55.874928128</td>\n",
       "      <td>0</td>\n",
       "    </tr>\n",
       "    <tr>\n",
       "      <th>2</th>\n",
       "      <td>0.6</td>\n",
       "      <td>-0.21</td>\n",
       "      <td>0.13</td>\n",
       "      <td>-0.17</td>\n",
       "      <td>0.31</td>\n",
       "      <td>2023-09-27 20:51:56.088963072</td>\n",
       "      <td>0</td>\n",
       "    </tr>\n",
       "    <tr>\n",
       "      <th>3</th>\n",
       "      <td>0.8</td>\n",
       "      <td>0.17</td>\n",
       "      <td>-0.13</td>\n",
       "      <td>-0.36</td>\n",
       "      <td>0.42</td>\n",
       "      <td>2023-09-27 20:51:56.280794112</td>\n",
       "      <td>0</td>\n",
       "    </tr>\n",
       "    <tr>\n",
       "      <th>4</th>\n",
       "      <td>1.0</td>\n",
       "      <td>0.06</td>\n",
       "      <td>0.11</td>\n",
       "      <td>-0.24</td>\n",
       "      <td>0.28</td>\n",
       "      <td>2023-09-27 20:51:56.471280128</td>\n",
       "      <td>0</td>\n",
       "    </tr>\n",
       "  </tbody>\n",
       "</table>\n",
       "</div>"
      ],
      "text/plain": [
       "   time  linear_acceleration_x  linear_acceleration_y  linear_acceleration_z  \\\n",
       "0   0.2                   0.26                  -0.00                  -0.07   \n",
       "1   0.4                   0.02                  -0.13                  -0.08   \n",
       "2   0.6                  -0.21                   0.13                  -0.17   \n",
       "3   0.8                   0.17                  -0.13                  -0.36   \n",
       "4   1.0                   0.06                   0.11                  -0.24   \n",
       "\n",
       "   absolute_linear_acceleration                     timestamp  rotation  \n",
       "0                          0.27 2023-09-27 20:51:55.672769024         0  \n",
       "1                          0.16 2023-09-27 20:51:55.874928128         0  \n",
       "2                          0.31 2023-09-27 20:51:56.088963072         0  \n",
       "3                          0.42 2023-09-27 20:51:56.280794112         0  \n",
       "4                          0.28 2023-09-27 20:51:56.471280128         0  "
      ]
     },
     "execution_count": 18,
     "metadata": {},
     "output_type": "execute_result"
    }
   ],
   "source": [
    "df.head()"
   ]
  },
  {
   "cell_type": "code",
   "execution_count": 19,
   "id": "28dfce90-5420-4c9e-b6b1-148cb0292a5e",
   "metadata": {},
   "outputs": [
    {
     "data": {
      "text/html": [
       "<div>\n",
       "<style scoped>\n",
       "    .dataframe tbody tr th:only-of-type {\n",
       "        vertical-align: middle;\n",
       "    }\n",
       "\n",
       "    .dataframe tbody tr th {\n",
       "        vertical-align: top;\n",
       "    }\n",
       "\n",
       "    .dataframe thead th {\n",
       "        text-align: right;\n",
       "    }\n",
       "</style>\n",
       "<table border=\"1\" class=\"dataframe\">\n",
       "  <thead>\n",
       "    <tr style=\"text-align: right;\">\n",
       "      <th></th>\n",
       "      <th>time</th>\n",
       "      <th>linear_acceleration_x</th>\n",
       "      <th>linear_acceleration_y</th>\n",
       "      <th>linear_acceleration_z</th>\n",
       "      <th>absolute_linear_acceleration</th>\n",
       "      <th>timestamp</th>\n",
       "      <th>rotation</th>\n",
       "    </tr>\n",
       "  </thead>\n",
       "  <tbody>\n",
       "    <tr>\n",
       "      <th>995</th>\n",
       "      <td>199.34</td>\n",
       "      <td>89.76</td>\n",
       "      <td>-100.28</td>\n",
       "      <td>-27.97</td>\n",
       "      <td>137.45</td>\n",
       "      <td>2023-09-27 21:03:11.612211968</td>\n",
       "      <td>2</td>\n",
       "    </tr>\n",
       "    <tr>\n",
       "      <th>996</th>\n",
       "      <td>199.54</td>\n",
       "      <td>76.91</td>\n",
       "      <td>-81.77</td>\n",
       "      <td>-26.25</td>\n",
       "      <td>115.28</td>\n",
       "      <td>2023-09-27 21:03:11.815014912</td>\n",
       "      <td>2</td>\n",
       "    </tr>\n",
       "    <tr>\n",
       "      <th>997</th>\n",
       "      <td>199.74</td>\n",
       "      <td>135.82</td>\n",
       "      <td>-136.79</td>\n",
       "      <td>-55.84</td>\n",
       "      <td>200.69</td>\n",
       "      <td>2023-09-27 21:03:12.006514944</td>\n",
       "      <td>2</td>\n",
       "    </tr>\n",
       "    <tr>\n",
       "      <th>998</th>\n",
       "      <td>199.94</td>\n",
       "      <td>76.75</td>\n",
       "      <td>-85.45</td>\n",
       "      <td>-23.46</td>\n",
       "      <td>117.23</td>\n",
       "      <td>2023-09-27 21:03:12.208093952</td>\n",
       "      <td>2</td>\n",
       "    </tr>\n",
       "    <tr>\n",
       "      <th>999</th>\n",
       "      <td>200.14</td>\n",
       "      <td>90.41</td>\n",
       "      <td>-88.34</td>\n",
       "      <td>-26.01</td>\n",
       "      <td>129.06</td>\n",
       "      <td>2023-09-27 21:03:12.410193920</td>\n",
       "      <td>2</td>\n",
       "    </tr>\n",
       "  </tbody>\n",
       "</table>\n",
       "</div>"
      ],
      "text/plain": [
       "       time  linear_acceleration_x  linear_acceleration_y  \\\n",
       "995  199.34                  89.76                -100.28   \n",
       "996  199.54                  76.91                 -81.77   \n",
       "997  199.74                 135.82                -136.79   \n",
       "998  199.94                  76.75                 -85.45   \n",
       "999  200.14                  90.41                 -88.34   \n",
       "\n",
       "     linear_acceleration_z  absolute_linear_acceleration  \\\n",
       "995                 -27.97                        137.45   \n",
       "996                 -26.25                        115.28   \n",
       "997                 -55.84                        200.69   \n",
       "998                 -23.46                        117.23   \n",
       "999                 -26.01                        129.06   \n",
       "\n",
       "                        timestamp  rotation  \n",
       "995 2023-09-27 21:03:11.612211968         2  \n",
       "996 2023-09-27 21:03:11.815014912         2  \n",
       "997 2023-09-27 21:03:12.006514944         2  \n",
       "998 2023-09-27 21:03:12.208093952         2  \n",
       "999 2023-09-27 21:03:12.410193920         2  "
      ]
     },
     "execution_count": 19,
     "metadata": {},
     "output_type": "execute_result"
    }
   ],
   "source": [
    "df.tail()"
   ]
  },
  {
   "cell_type": "code",
   "execution_count": null,
   "id": "96ee2a6f-fea4-4906-a4c0-d6da5727de9b",
   "metadata": {},
   "outputs": [],
   "source": []
  },
  {
   "cell_type": "markdown",
   "id": "5188976a",
   "metadata": {
    "heading_collapsed": true,
    "hidden": true
   },
   "source": [
    "### Visualizations"
   ]
  },
  {
   "cell_type": "code",
   "execution_count": 21,
   "id": "587f99ed-b2f5-4078-b449-297fc09844f8",
   "metadata": {},
   "outputs": [],
   "source": [
    "# Add a name column to make labeling easier\n",
    "df['rotation_name'] = df['rotation'].map({0:'steady', 1:'pendulum', 2:'horizontal', 3:'vertical'})"
   ]
  },
  {
   "cell_type": "markdown",
   "id": "5039c110-0ad0-4760-9693-54dd86c835dc",
   "metadata": {},
   "source": [
    "### Visualize the Acceleration X data\n"
   ]
  },
  {
   "cell_type": "code",
   "execution_count": null,
   "id": "8c70fb63",
   "metadata": {
    "hidden": true
   },
   "outputs": [],
   "source": [
    "sns.scatterplot(data=df, x='time', y='linear_acceleration_x', hue='rotation_name', alpha=0.2, palette=['green', 'orange', 'dodgerblue', 'red'] )\n"
   ]
  },
  {
   "cell_type": "markdown",
   "id": "2b85dd3a-09bb-4874-a68b-5095ba8f198c",
   "metadata": {},
   "source": [
    "### Visualize the Acceleration Y data\n"
   ]
  },
  {
   "cell_type": "code",
   "execution_count": null,
   "id": "2b8dd28d-ac58-4e31-9670-2342cc7514ce",
   "metadata": {},
   "outputs": [],
   "source": [
    "sns.scatterplot(data=df, x='time', y='linear_acceleration_y', hue='rotation_name', alpha=0.2, palette=['green', 'orange', 'dodgerblue', 'red'] )"
   ]
  },
  {
   "cell_type": "markdown",
   "id": "83e25b70-09d2-4f05-a22a-fd282fa40d07",
   "metadata": {},
   "source": [
    "### Visualize the Acceleration Z data\n"
   ]
  },
  {
   "cell_type": "code",
   "execution_count": null,
   "id": "79eacbf1-20b6-427a-b948-f1349e1243ba",
   "metadata": {},
   "outputs": [],
   "source": [
    "sns.scatterplot(data=df, x='time', y='linear_acceleration_z', hue='rotation_name', alpha=0.2, palette=['green', 'orange', 'dodgerblue', 'red'] )"
   ]
  },
  {
   "cell_type": "markdown",
   "id": "c41855b3-85ee-48d1-83d5-9a9c30055585",
   "metadata": {},
   "source": [
    "### Visualize the Gyroscope X data"
   ]
  },
  {
   "cell_type": "code",
   "execution_count": null,
   "id": "22a8b3bc-988e-46ea-a86d-b8f3c683a042",
   "metadata": {},
   "outputs": [],
   "source": [
    "sns.scatterplot(data=df, x='time', y='gyro_x', hue='rotation_name', alpha=0.2, palette=['green', 'orange', 'dodgerblue', 'red'] )"
   ]
  },
  {
   "cell_type": "markdown",
   "id": "3317b28e-9acd-4a5c-a878-d0a964b27eb9",
   "metadata": {},
   "source": [
    "### Visualize the Gyroscope Y data"
   ]
  },
  {
   "cell_type": "code",
   "execution_count": null,
   "id": "c4b64517-1340-4b6d-95e9-8579d8afa17b",
   "metadata": {},
   "outputs": [],
   "source": [
    "sns.scatterplot(data=df, x='time', y='gyro_y', hue='rotation_name', alpha=0.2, palette=['green', 'orange', 'dodgerblue', 'red'] )"
   ]
  },
  {
   "cell_type": "markdown",
   "id": "c78e7ea3-cf8a-49a1-b6b2-faa71b9e330b",
   "metadata": {},
   "source": [
    "### Visualize the Gyroscope Z data"
   ]
  },
  {
   "cell_type": "code",
   "execution_count": null,
   "id": "bef64223-5e8b-4cdf-b045-c2f51cc7c9a2",
   "metadata": {},
   "outputs": [],
   "source": [
    "sns.scatterplot(data=df, x='time', y='gyro_z', hue='rotation_name', alpha=0.2, palette=['green', 'orange', 'dodgerblue', 'red'] )"
   ]
  },
  {
   "cell_type": "markdown",
   "id": "273147e8-7d18-4e7a-aafb-9ee1bc3147b5",
   "metadata": {},
   "source": [
    "### Absolute Linear Acceleration"
   ]
  },
  {
   "cell_type": "code",
   "execution_count": null,
   "id": "f378a5b7-a664-47c9-9b93-e9253fb09738",
   "metadata": {},
   "outputs": [],
   "source": [
    "sns.scatterplot(data=df, x='time', y='absolute_linear_acceleration', hue='rotation_name', alpha=0.2, palette=['green', 'orange', 'dodgerblue', 'red'] )"
   ]
  },
  {
   "cell_type": "code",
   "execution_count": null,
   "id": "68b1c2e1-a297-45cc-8efb-bdbeb7e7e785",
   "metadata": {},
   "outputs": [],
   "source": []
  },
  {
   "cell_type": "markdown",
   "id": "7ac44e89df8a2e0f",
   "metadata": {
    "collapsed": false
   },
   "source": [
    "## Save DataFrame to CSV"
   ]
  },
  {
   "cell_type": "code",
   "execution_count": null,
   "id": "167ef1ed71b3d283",
   "metadata": {
    "collapsed": false
   },
   "outputs": [],
   "source": [
    "df.to_csv(\"./data/all_data.csv\", header=True, index=False)"
   ]
  },
  {
   "cell_type": "code",
   "execution_count": null,
   "id": "74243e4b57f8a6c6",
   "metadata": {
    "collapsed": false
   },
   "outputs": [],
   "source": [
    "new_df = pd.read_csv(\"./data/all_data.csv\")"
   ]
  },
  {
   "cell_type": "code",
   "execution_count": null,
   "id": "a9cbf62796b37fc2",
   "metadata": {
    "collapsed": false
   },
   "outputs": [],
   "source": [
    "new_df.shape"
   ]
  },
  {
   "cell_type": "code",
   "execution_count": null,
   "id": "fcda3ec10ab26392",
   "metadata": {
    "collapsed": false
   },
   "outputs": [],
   "source": [
    "new_df.head()"
   ]
  },
  {
   "cell_type": "markdown",
   "id": "9b9bd76e",
   "metadata": {
    "heading_collapsed": true
   },
   "source": [
    "# Prepare Data"
   ]
  },
  {
   "cell_type": "markdown",
   "id": "1311c51e",
   "metadata": {
    "hidden": true
   },
   "source": [
    "Some machine learning models will need us to scale the values to the same range.  \n",
    "\n",
    "RandomForestClassifier does not have that restriction\n",
    "\n",
    "Because we have no missing data values and all of the values are numeric, there really is no significant data preparation that needs to be done.\n",
    "\n",
    "Keep in mind... if we had picked a model other an a Tree based model, then we would have to scale the input values"
   ]
  },
  {
   "cell_type": "code",
   "execution_count": 22,
   "id": "1f774ad24672d51c",
   "metadata": {
    "collapsed": false
   },
   "outputs": [
    {
     "data": {
      "text/html": [
       "<div>\n",
       "<style scoped>\n",
       "    .dataframe tbody tr th:only-of-type {\n",
       "        vertical-align: middle;\n",
       "    }\n",
       "\n",
       "    .dataframe tbody tr th {\n",
       "        vertical-align: top;\n",
       "    }\n",
       "\n",
       "    .dataframe thead th {\n",
       "        text-align: right;\n",
       "    }\n",
       "</style>\n",
       "<table border=\"1\" class=\"dataframe\">\n",
       "  <thead>\n",
       "    <tr style=\"text-align: right;\">\n",
       "      <th></th>\n",
       "      <th>time</th>\n",
       "      <th>linear_acceleration_x</th>\n",
       "      <th>linear_acceleration_y</th>\n",
       "      <th>linear_acceleration_z</th>\n",
       "      <th>absolute_linear_acceleration</th>\n",
       "      <th>timestamp</th>\n",
       "      <th>rotation</th>\n",
       "      <th>rotation_name</th>\n",
       "    </tr>\n",
       "  </thead>\n",
       "  <tbody>\n",
       "    <tr>\n",
       "      <th>0</th>\n",
       "      <td>0.2</td>\n",
       "      <td>0.26</td>\n",
       "      <td>-0.00</td>\n",
       "      <td>-0.07</td>\n",
       "      <td>0.27</td>\n",
       "      <td>2023-09-27 20:51:55.672769024</td>\n",
       "      <td>0</td>\n",
       "      <td>steady</td>\n",
       "    </tr>\n",
       "    <tr>\n",
       "      <th>1</th>\n",
       "      <td>0.4</td>\n",
       "      <td>0.02</td>\n",
       "      <td>-0.13</td>\n",
       "      <td>-0.08</td>\n",
       "      <td>0.16</td>\n",
       "      <td>2023-09-27 20:51:55.874928128</td>\n",
       "      <td>0</td>\n",
       "      <td>steady</td>\n",
       "    </tr>\n",
       "    <tr>\n",
       "      <th>2</th>\n",
       "      <td>0.6</td>\n",
       "      <td>-0.21</td>\n",
       "      <td>0.13</td>\n",
       "      <td>-0.17</td>\n",
       "      <td>0.31</td>\n",
       "      <td>2023-09-27 20:51:56.088963072</td>\n",
       "      <td>0</td>\n",
       "      <td>steady</td>\n",
       "    </tr>\n",
       "    <tr>\n",
       "      <th>3</th>\n",
       "      <td>0.8</td>\n",
       "      <td>0.17</td>\n",
       "      <td>-0.13</td>\n",
       "      <td>-0.36</td>\n",
       "      <td>0.42</td>\n",
       "      <td>2023-09-27 20:51:56.280794112</td>\n",
       "      <td>0</td>\n",
       "      <td>steady</td>\n",
       "    </tr>\n",
       "    <tr>\n",
       "      <th>4</th>\n",
       "      <td>1.0</td>\n",
       "      <td>0.06</td>\n",
       "      <td>0.11</td>\n",
       "      <td>-0.24</td>\n",
       "      <td>0.28</td>\n",
       "      <td>2023-09-27 20:51:56.471280128</td>\n",
       "      <td>0</td>\n",
       "      <td>steady</td>\n",
       "    </tr>\n",
       "  </tbody>\n",
       "</table>\n",
       "</div>"
      ],
      "text/plain": [
       "   time  linear_acceleration_x  linear_acceleration_y  linear_acceleration_z  \\\n",
       "0   0.2                   0.26                  -0.00                  -0.07   \n",
       "1   0.4                   0.02                  -0.13                  -0.08   \n",
       "2   0.6                  -0.21                   0.13                  -0.17   \n",
       "3   0.8                   0.17                  -0.13                  -0.36   \n",
       "4   1.0                   0.06                   0.11                  -0.24   \n",
       "\n",
       "   absolute_linear_acceleration                     timestamp  rotation  \\\n",
       "0                          0.27 2023-09-27 20:51:55.672769024         0   \n",
       "1                          0.16 2023-09-27 20:51:55.874928128         0   \n",
       "2                          0.31 2023-09-27 20:51:56.088963072         0   \n",
       "3                          0.42 2023-09-27 20:51:56.280794112         0   \n",
       "4                          0.28 2023-09-27 20:51:56.471280128         0   \n",
       "\n",
       "  rotation_name  \n",
       "0        steady  \n",
       "1        steady  \n",
       "2        steady  \n",
       "3        steady  \n",
       "4        steady  "
      ]
     },
     "execution_count": 22,
     "metadata": {},
     "output_type": "execute_result"
    }
   ],
   "source": [
    "df.head()"
   ]
  },
  {
   "cell_type": "code",
   "execution_count": 23,
   "id": "d3cc69dd-4628-4b75-ac30-74796720396a",
   "metadata": {},
   "outputs": [],
   "source": [
    "y = df['rotation']\n",
    "X = df.drop(columns=['rotation', 'time', 'timestamp', 'rotation_name'])"
   ]
  },
  {
   "cell_type": "code",
   "execution_count": null,
   "id": "9fc6d73b-7f71-4bef-868c-8ab482c44c67",
   "metadata": {},
   "outputs": [],
   "source": []
  },
  {
   "cell_type": "code",
   "execution_count": 24,
   "id": "6e12c98e",
   "metadata": {
    "hidden": true
   },
   "outputs": [
    {
     "data": {
      "text/plain": [
       "(4000, 4)"
      ]
     },
     "execution_count": 24,
     "metadata": {},
     "output_type": "execute_result"
    }
   ],
   "source": [
    "X.shape"
   ]
  },
  {
   "cell_type": "code",
   "execution_count": 25,
   "id": "d7c33b8b",
   "metadata": {
    "hidden": true
   },
   "outputs": [
    {
     "data": {
      "text/plain": [
       "(4000,)"
      ]
     },
     "execution_count": 25,
     "metadata": {},
     "output_type": "execute_result"
    }
   ],
   "source": [
    "y.shape"
   ]
  },
  {
   "cell_type": "code",
   "execution_count": 26,
   "id": "c07b65c4",
   "metadata": {
    "hidden": true
   },
   "outputs": [],
   "source": [
    "from sklearn.model_selection import train_test_split"
   ]
  },
  {
   "cell_type": "code",
   "execution_count": 27,
   "id": "9081ca68",
   "metadata": {
    "hidden": true
   },
   "outputs": [],
   "source": [
    "X_train, X_test, y_train, y_test = train_test_split(X, y, test_size=0.2, stratify=y, shuffle=True)"
   ]
  },
  {
   "cell_type": "code",
   "execution_count": null,
   "id": "21aa5260",
   "metadata": {
    "hidden": true
   },
   "outputs": [],
   "source": []
  },
  {
   "cell_type": "markdown",
   "id": "4077e1ca",
   "metadata": {
    "heading_collapsed": true
   },
   "source": [
    "# Train a Machine Learning Model"
   ]
  },
  {
   "cell_type": "code",
   "execution_count": 28,
   "id": "5a66cd95",
   "metadata": {
    "hidden": true
   },
   "outputs": [],
   "source": [
    "model = RandomForestClassifier()"
   ]
  },
  {
   "cell_type": "code",
   "execution_count": 29,
   "id": "76c092e6",
   "metadata": {
    "hidden": true
   },
   "outputs": [
    {
     "data": {
      "text/html": [
       "<style>#sk-container-id-1 {color: black;}#sk-container-id-1 pre{padding: 0;}#sk-container-id-1 div.sk-toggleable {background-color: white;}#sk-container-id-1 label.sk-toggleable__label {cursor: pointer;display: block;width: 100%;margin-bottom: 0;padding: 0.3em;box-sizing: border-box;text-align: center;}#sk-container-id-1 label.sk-toggleable__label-arrow:before {content: \"▸\";float: left;margin-right: 0.25em;color: #696969;}#sk-container-id-1 label.sk-toggleable__label-arrow:hover:before {color: black;}#sk-container-id-1 div.sk-estimator:hover label.sk-toggleable__label-arrow:before {color: black;}#sk-container-id-1 div.sk-toggleable__content {max-height: 0;max-width: 0;overflow: hidden;text-align: left;background-color: #f0f8ff;}#sk-container-id-1 div.sk-toggleable__content pre {margin: 0.2em;color: black;border-radius: 0.25em;background-color: #f0f8ff;}#sk-container-id-1 input.sk-toggleable__control:checked~div.sk-toggleable__content {max-height: 200px;max-width: 100%;overflow: auto;}#sk-container-id-1 input.sk-toggleable__control:checked~label.sk-toggleable__label-arrow:before {content: \"▾\";}#sk-container-id-1 div.sk-estimator input.sk-toggleable__control:checked~label.sk-toggleable__label {background-color: #d4ebff;}#sk-container-id-1 div.sk-label input.sk-toggleable__control:checked~label.sk-toggleable__label {background-color: #d4ebff;}#sk-container-id-1 input.sk-hidden--visually {border: 0;clip: rect(1px 1px 1px 1px);clip: rect(1px, 1px, 1px, 1px);height: 1px;margin: -1px;overflow: hidden;padding: 0;position: absolute;width: 1px;}#sk-container-id-1 div.sk-estimator {font-family: monospace;background-color: #f0f8ff;border: 1px dotted black;border-radius: 0.25em;box-sizing: border-box;margin-bottom: 0.5em;}#sk-container-id-1 div.sk-estimator:hover {background-color: #d4ebff;}#sk-container-id-1 div.sk-parallel-item::after {content: \"\";width: 100%;border-bottom: 1px solid gray;flex-grow: 1;}#sk-container-id-1 div.sk-label:hover label.sk-toggleable__label {background-color: #d4ebff;}#sk-container-id-1 div.sk-serial::before {content: \"\";position: absolute;border-left: 1px solid gray;box-sizing: border-box;top: 0;bottom: 0;left: 50%;z-index: 0;}#sk-container-id-1 div.sk-serial {display: flex;flex-direction: column;align-items: center;background-color: white;padding-right: 0.2em;padding-left: 0.2em;position: relative;}#sk-container-id-1 div.sk-item {position: relative;z-index: 1;}#sk-container-id-1 div.sk-parallel {display: flex;align-items: stretch;justify-content: center;background-color: white;position: relative;}#sk-container-id-1 div.sk-item::before, #sk-container-id-1 div.sk-parallel-item::before {content: \"\";position: absolute;border-left: 1px solid gray;box-sizing: border-box;top: 0;bottom: 0;left: 50%;z-index: -1;}#sk-container-id-1 div.sk-parallel-item {display: flex;flex-direction: column;z-index: 1;position: relative;background-color: white;}#sk-container-id-1 div.sk-parallel-item:first-child::after {align-self: flex-end;width: 50%;}#sk-container-id-1 div.sk-parallel-item:last-child::after {align-self: flex-start;width: 50%;}#sk-container-id-1 div.sk-parallel-item:only-child::after {width: 0;}#sk-container-id-1 div.sk-dashed-wrapped {border: 1px dashed gray;margin: 0 0.4em 0.5em 0.4em;box-sizing: border-box;padding-bottom: 0.4em;background-color: white;}#sk-container-id-1 div.sk-label label {font-family: monospace;font-weight: bold;display: inline-block;line-height: 1.2em;}#sk-container-id-1 div.sk-label-container {text-align: center;}#sk-container-id-1 div.sk-container {/* jupyter's `normalize.less` sets `[hidden] { display: none; }` but bootstrap.min.css set `[hidden] { display: none !important; }` so we also need the `!important` here to be able to override the default hidden behavior on the sphinx rendered scikit-learn.org. See: https://github.com/scikit-learn/scikit-learn/issues/21755 */display: inline-block !important;position: relative;}#sk-container-id-1 div.sk-text-repr-fallback {display: none;}</style><div id=\"sk-container-id-1\" class=\"sk-top-container\"><div class=\"sk-text-repr-fallback\"><pre>RandomForestClassifier()</pre><b>In a Jupyter environment, please rerun this cell to show the HTML representation or trust the notebook. <br />On GitHub, the HTML representation is unable to render, please try loading this page with nbviewer.org.</b></div><div class=\"sk-container\" hidden><div class=\"sk-item\"><div class=\"sk-estimator sk-toggleable\"><input class=\"sk-toggleable__control sk-hidden--visually\" id=\"sk-estimator-id-1\" type=\"checkbox\" checked><label for=\"sk-estimator-id-1\" class=\"sk-toggleable__label sk-toggleable__label-arrow\">RandomForestClassifier</label><div class=\"sk-toggleable__content\"><pre>RandomForestClassifier()</pre></div></div></div></div></div>"
      ],
      "text/plain": [
       "RandomForestClassifier()"
      ]
     },
     "execution_count": 29,
     "metadata": {},
     "output_type": "execute_result"
    }
   ],
   "source": [
    "model.fit(X_train, y_train)"
   ]
  },
  {
   "cell_type": "code",
   "execution_count": 30,
   "id": "7372b064",
   "metadata": {
    "hidden": true
   },
   "outputs": [],
   "source": [
    "y_pred_train = model.predict(X_train)\n"
   ]
  },
  {
   "cell_type": "code",
   "execution_count": 31,
   "id": "2eacdf83",
   "metadata": {
    "hidden": true
   },
   "outputs": [
    {
     "data": {
      "text/plain": [
       "1.0"
      ]
     },
     "execution_count": 31,
     "metadata": {},
     "output_type": "execute_result"
    }
   ],
   "source": [
    "accuracy_score(y_train, y_pred_train)\n"
   ]
  },
  {
   "cell_type": "code",
   "execution_count": null,
   "id": "4f2a9238",
   "metadata": {
    "hidden": true
   },
   "outputs": [],
   "source": []
  },
  {
   "cell_type": "markdown",
   "id": "b9312824",
   "metadata": {
    "heading_collapsed": true
   },
   "source": [
    "# Test Machine Learning Model"
   ]
  },
  {
   "cell_type": "code",
   "execution_count": 32,
   "id": "6c663f16",
   "metadata": {
    "hidden": true
   },
   "outputs": [],
   "source": [
    "y_pred_test = model.predict(X_test)"
   ]
  },
  {
   "cell_type": "code",
   "execution_count": 33,
   "id": "a823b73f",
   "metadata": {
    "hidden": true
   },
   "outputs": [
    {
     "data": {
      "text/plain": [
       "0.86375"
      ]
     },
     "execution_count": 33,
     "metadata": {},
     "output_type": "execute_result"
    }
   ],
   "source": [
    "accuracy_score(y_test, y_pred_test)"
   ]
  },
  {
   "cell_type": "markdown",
   "id": "e4ed65cf",
   "metadata": {
    "hidden": true
   },
   "source": [
    "### What were the most important features to the RandomForestClassifier model"
   ]
  },
  {
   "cell_type": "code",
   "execution_count": 34,
   "id": "80efa670",
   "metadata": {
    "hidden": true
   },
   "outputs": [
    {
     "data": {
      "text/plain": [
       "[('absolute_linear_acceleration', 0.34514988612302),\n",
       " ('linear_acceleration_x', 0.23512207383251874),\n",
       " ('linear_acceleration_z', 0.229252667008803),\n",
       " ('linear_acceleration_y', 0.19047537303565823)]"
      ]
     },
     "execution_count": 34,
     "metadata": {},
     "output_type": "execute_result"
    }
   ],
   "source": [
    "importance_list = []\n",
    "\n",
    "for tup in zip(X_train.columns, model.feature_importances_):\n",
    "    \n",
    "    importance_list.append(tup) \n",
    "sorted_importance_list = sorted(importance_list, key=lambda tup: tup[1], reverse = True)\n",
    "sorted_importance_list[0:10]"
   ]
  },
  {
   "cell_type": "code",
   "execution_count": null,
   "id": "bb8300fc",
   "metadata": {
    "hidden": true
   },
   "outputs": [],
   "source": []
  },
  {
   "cell_type": "markdown",
   "id": "ba4a4464",
   "metadata": {
    "heading_collapsed": true
   },
   "source": [
    "# Make Predictions on new data"
   ]
  },
  {
   "cell_type": "markdown",
   "id": "f30ce129",
   "metadata": {
    "hidden": true
   },
   "source": [
    "Before we make predictions on new data, we would like to re-train the model on all of the collected data."
   ]
  },
  {
   "cell_type": "code",
   "execution_count": 35,
   "id": "97dd733d",
   "metadata": {
    "hidden": true
   },
   "outputs": [],
   "source": [
    "model = RandomForestClassifier()"
   ]
  },
  {
   "cell_type": "code",
   "execution_count": 36,
   "id": "3edf607b",
   "metadata": {
    "hidden": true
   },
   "outputs": [
    {
     "data": {
      "text/html": [
       "<style>#sk-container-id-2 {color: black;}#sk-container-id-2 pre{padding: 0;}#sk-container-id-2 div.sk-toggleable {background-color: white;}#sk-container-id-2 label.sk-toggleable__label {cursor: pointer;display: block;width: 100%;margin-bottom: 0;padding: 0.3em;box-sizing: border-box;text-align: center;}#sk-container-id-2 label.sk-toggleable__label-arrow:before {content: \"▸\";float: left;margin-right: 0.25em;color: #696969;}#sk-container-id-2 label.sk-toggleable__label-arrow:hover:before {color: black;}#sk-container-id-2 div.sk-estimator:hover label.sk-toggleable__label-arrow:before {color: black;}#sk-container-id-2 div.sk-toggleable__content {max-height: 0;max-width: 0;overflow: hidden;text-align: left;background-color: #f0f8ff;}#sk-container-id-2 div.sk-toggleable__content pre {margin: 0.2em;color: black;border-radius: 0.25em;background-color: #f0f8ff;}#sk-container-id-2 input.sk-toggleable__control:checked~div.sk-toggleable__content {max-height: 200px;max-width: 100%;overflow: auto;}#sk-container-id-2 input.sk-toggleable__control:checked~label.sk-toggleable__label-arrow:before {content: \"▾\";}#sk-container-id-2 div.sk-estimator input.sk-toggleable__control:checked~label.sk-toggleable__label {background-color: #d4ebff;}#sk-container-id-2 div.sk-label input.sk-toggleable__control:checked~label.sk-toggleable__label {background-color: #d4ebff;}#sk-container-id-2 input.sk-hidden--visually {border: 0;clip: rect(1px 1px 1px 1px);clip: rect(1px, 1px, 1px, 1px);height: 1px;margin: -1px;overflow: hidden;padding: 0;position: absolute;width: 1px;}#sk-container-id-2 div.sk-estimator {font-family: monospace;background-color: #f0f8ff;border: 1px dotted black;border-radius: 0.25em;box-sizing: border-box;margin-bottom: 0.5em;}#sk-container-id-2 div.sk-estimator:hover {background-color: #d4ebff;}#sk-container-id-2 div.sk-parallel-item::after {content: \"\";width: 100%;border-bottom: 1px solid gray;flex-grow: 1;}#sk-container-id-2 div.sk-label:hover label.sk-toggleable__label {background-color: #d4ebff;}#sk-container-id-2 div.sk-serial::before {content: \"\";position: absolute;border-left: 1px solid gray;box-sizing: border-box;top: 0;bottom: 0;left: 50%;z-index: 0;}#sk-container-id-2 div.sk-serial {display: flex;flex-direction: column;align-items: center;background-color: white;padding-right: 0.2em;padding-left: 0.2em;position: relative;}#sk-container-id-2 div.sk-item {position: relative;z-index: 1;}#sk-container-id-2 div.sk-parallel {display: flex;align-items: stretch;justify-content: center;background-color: white;position: relative;}#sk-container-id-2 div.sk-item::before, #sk-container-id-2 div.sk-parallel-item::before {content: \"\";position: absolute;border-left: 1px solid gray;box-sizing: border-box;top: 0;bottom: 0;left: 50%;z-index: -1;}#sk-container-id-2 div.sk-parallel-item {display: flex;flex-direction: column;z-index: 1;position: relative;background-color: white;}#sk-container-id-2 div.sk-parallel-item:first-child::after {align-self: flex-end;width: 50%;}#sk-container-id-2 div.sk-parallel-item:last-child::after {align-self: flex-start;width: 50%;}#sk-container-id-2 div.sk-parallel-item:only-child::after {width: 0;}#sk-container-id-2 div.sk-dashed-wrapped {border: 1px dashed gray;margin: 0 0.4em 0.5em 0.4em;box-sizing: border-box;padding-bottom: 0.4em;background-color: white;}#sk-container-id-2 div.sk-label label {font-family: monospace;font-weight: bold;display: inline-block;line-height: 1.2em;}#sk-container-id-2 div.sk-label-container {text-align: center;}#sk-container-id-2 div.sk-container {/* jupyter's `normalize.less` sets `[hidden] { display: none; }` but bootstrap.min.css set `[hidden] { display: none !important; }` so we also need the `!important` here to be able to override the default hidden behavior on the sphinx rendered scikit-learn.org. See: https://github.com/scikit-learn/scikit-learn/issues/21755 */display: inline-block !important;position: relative;}#sk-container-id-2 div.sk-text-repr-fallback {display: none;}</style><div id=\"sk-container-id-2\" class=\"sk-top-container\"><div class=\"sk-text-repr-fallback\"><pre>RandomForestClassifier()</pre><b>In a Jupyter environment, please rerun this cell to show the HTML representation or trust the notebook. <br />On GitHub, the HTML representation is unable to render, please try loading this page with nbviewer.org.</b></div><div class=\"sk-container\" hidden><div class=\"sk-item\"><div class=\"sk-estimator sk-toggleable\"><input class=\"sk-toggleable__control sk-hidden--visually\" id=\"sk-estimator-id-2\" type=\"checkbox\" checked><label for=\"sk-estimator-id-2\" class=\"sk-toggleable__label sk-toggleable__label-arrow\">RandomForestClassifier</label><div class=\"sk-toggleable__content\"><pre>RandomForestClassifier()</pre></div></div></div></div></div>"
      ],
      "text/plain": [
       "RandomForestClassifier()"
      ]
     },
     "execution_count": 36,
     "metadata": {},
     "output_type": "execute_result"
    }
   ],
   "source": [
    "model.fit(X,y)"
   ]
  },
  {
   "cell_type": "code",
   "execution_count": 37,
   "id": "b4f148f5",
   "metadata": {
    "hidden": true
   },
   "outputs": [
    {
     "data": {
      "text/plain": [
       "['./rotation_detector_model_no_gyro.sav']"
      ]
     },
     "execution_count": 37,
     "metadata": {},
     "output_type": "execute_result"
    }
   ],
   "source": [
    "# Save the model so we can use it to autonmously drive the car\n",
    "import joblib\n",
    "\n",
    "joblib.dump(model, \"./rotation_detector_model_no_gyro.sav\")\n"
   ]
  },
  {
   "cell_type": "markdown",
   "id": "1308845a",
   "metadata": {
    "hidden": true
   },
   "source": [
    "Let's go write a new script to read new data from the databot and use the model to make new predictions."
   ]
  },
  {
   "cell_type": "code",
   "execution_count": null,
   "id": "25216817",
   "metadata": {
    "hidden": true
   },
   "outputs": [],
   "source": []
  },
  {
   "cell_type": "code",
   "execution_count": null,
   "id": "63d67755-d0f8-4201-9508-cb6303d6d763",
   "metadata": {},
   "outputs": [],
   "source": []
  },
  {
   "cell_type": "markdown",
   "id": "1e2b2f7a-a299-49fe-b4aa-a834a82b2b4f",
   "metadata": {},
   "source": [
    "# Try to improve the performance of the model"
   ]
  },
  {
   "cell_type": "code",
   "execution_count": 4,
   "id": "2750c69d-d3fb-43a9-854d-4e07b6b7b4e9",
   "metadata": {},
   "outputs": [],
   "source": [
    "df = pd.concat([df_steady, df_pendulum, df_vertical])\n"
   ]
  },
  {
   "cell_type": "code",
   "execution_count": 5,
   "id": "7d730258-caac-4b34-ae58-6c7bb7714b32",
   "metadata": {},
   "outputs": [],
   "source": [
    "y = df['rotation']\n",
    "X = df.drop(columns=['rotation', 'time', 'timestamp'])"
   ]
  },
  {
   "cell_type": "code",
   "execution_count": 6,
   "id": "0048fa23-501f-4863-94be-c172e0f0242a",
   "metadata": {},
   "outputs": [],
   "source": [
    "model = RandomForestClassifier()"
   ]
  },
  {
   "cell_type": "code",
   "execution_count": 7,
   "id": "34312077-919a-43da-aaab-af2077e799e1",
   "metadata": {},
   "outputs": [
    {
     "data": {
      "text/html": [
       "<style>#sk-container-id-1 {color: black;}#sk-container-id-1 pre{padding: 0;}#sk-container-id-1 div.sk-toggleable {background-color: white;}#sk-container-id-1 label.sk-toggleable__label {cursor: pointer;display: block;width: 100%;margin-bottom: 0;padding: 0.3em;box-sizing: border-box;text-align: center;}#sk-container-id-1 label.sk-toggleable__label-arrow:before {content: \"▸\";float: left;margin-right: 0.25em;color: #696969;}#sk-container-id-1 label.sk-toggleable__label-arrow:hover:before {color: black;}#sk-container-id-1 div.sk-estimator:hover label.sk-toggleable__label-arrow:before {color: black;}#sk-container-id-1 div.sk-toggleable__content {max-height: 0;max-width: 0;overflow: hidden;text-align: left;background-color: #f0f8ff;}#sk-container-id-1 div.sk-toggleable__content pre {margin: 0.2em;color: black;border-radius: 0.25em;background-color: #f0f8ff;}#sk-container-id-1 input.sk-toggleable__control:checked~div.sk-toggleable__content {max-height: 200px;max-width: 100%;overflow: auto;}#sk-container-id-1 input.sk-toggleable__control:checked~label.sk-toggleable__label-arrow:before {content: \"▾\";}#sk-container-id-1 div.sk-estimator input.sk-toggleable__control:checked~label.sk-toggleable__label {background-color: #d4ebff;}#sk-container-id-1 div.sk-label input.sk-toggleable__control:checked~label.sk-toggleable__label {background-color: #d4ebff;}#sk-container-id-1 input.sk-hidden--visually {border: 0;clip: rect(1px 1px 1px 1px);clip: rect(1px, 1px, 1px, 1px);height: 1px;margin: -1px;overflow: hidden;padding: 0;position: absolute;width: 1px;}#sk-container-id-1 div.sk-estimator {font-family: monospace;background-color: #f0f8ff;border: 1px dotted black;border-radius: 0.25em;box-sizing: border-box;margin-bottom: 0.5em;}#sk-container-id-1 div.sk-estimator:hover {background-color: #d4ebff;}#sk-container-id-1 div.sk-parallel-item::after {content: \"\";width: 100%;border-bottom: 1px solid gray;flex-grow: 1;}#sk-container-id-1 div.sk-label:hover label.sk-toggleable__label {background-color: #d4ebff;}#sk-container-id-1 div.sk-serial::before {content: \"\";position: absolute;border-left: 1px solid gray;box-sizing: border-box;top: 0;bottom: 0;left: 50%;z-index: 0;}#sk-container-id-1 div.sk-serial {display: flex;flex-direction: column;align-items: center;background-color: white;padding-right: 0.2em;padding-left: 0.2em;position: relative;}#sk-container-id-1 div.sk-item {position: relative;z-index: 1;}#sk-container-id-1 div.sk-parallel {display: flex;align-items: stretch;justify-content: center;background-color: white;position: relative;}#sk-container-id-1 div.sk-item::before, #sk-container-id-1 div.sk-parallel-item::before {content: \"\";position: absolute;border-left: 1px solid gray;box-sizing: border-box;top: 0;bottom: 0;left: 50%;z-index: -1;}#sk-container-id-1 div.sk-parallel-item {display: flex;flex-direction: column;z-index: 1;position: relative;background-color: white;}#sk-container-id-1 div.sk-parallel-item:first-child::after {align-self: flex-end;width: 50%;}#sk-container-id-1 div.sk-parallel-item:last-child::after {align-self: flex-start;width: 50%;}#sk-container-id-1 div.sk-parallel-item:only-child::after {width: 0;}#sk-container-id-1 div.sk-dashed-wrapped {border: 1px dashed gray;margin: 0 0.4em 0.5em 0.4em;box-sizing: border-box;padding-bottom: 0.4em;background-color: white;}#sk-container-id-1 div.sk-label label {font-family: monospace;font-weight: bold;display: inline-block;line-height: 1.2em;}#sk-container-id-1 div.sk-label-container {text-align: center;}#sk-container-id-1 div.sk-container {/* jupyter's `normalize.less` sets `[hidden] { display: none; }` but bootstrap.min.css set `[hidden] { display: none !important; }` so we also need the `!important` here to be able to override the default hidden behavior on the sphinx rendered scikit-learn.org. See: https://github.com/scikit-learn/scikit-learn/issues/21755 */display: inline-block !important;position: relative;}#sk-container-id-1 div.sk-text-repr-fallback {display: none;}</style><div id=\"sk-container-id-1\" class=\"sk-top-container\"><div class=\"sk-text-repr-fallback\"><pre>RandomForestClassifier()</pre><b>In a Jupyter environment, please rerun this cell to show the HTML representation or trust the notebook. <br />On GitHub, the HTML representation is unable to render, please try loading this page with nbviewer.org.</b></div><div class=\"sk-container\" hidden><div class=\"sk-item\"><div class=\"sk-estimator sk-toggleable\"><input class=\"sk-toggleable__control sk-hidden--visually\" id=\"sk-estimator-id-1\" type=\"checkbox\" checked><label for=\"sk-estimator-id-1\" class=\"sk-toggleable__label sk-toggleable__label-arrow\">RandomForestClassifier</label><div class=\"sk-toggleable__content\"><pre>RandomForestClassifier()</pre></div></div></div></div></div>"
      ],
      "text/plain": [
       "RandomForestClassifier()"
      ]
     },
     "execution_count": 7,
     "metadata": {},
     "output_type": "execute_result"
    }
   ],
   "source": [
    "model.fit(X,y)"
   ]
  },
  {
   "cell_type": "code",
   "execution_count": 8,
   "id": "51b6b4fd-61f3-4c30-a3f7-22ba6c56bc36",
   "metadata": {},
   "outputs": [
    {
     "data": {
      "text/plain": [
       "['./rotation_detector_model_no_horizontal.sav']"
      ]
     },
     "execution_count": 8,
     "metadata": {},
     "output_type": "execute_result"
    }
   ],
   "source": [
    "import joblib\n",
    "\n",
    "joblib.dump(model, \"./rotation_detector_model_no_horizontal.sav\")\n"
   ]
  },
  {
   "cell_type": "code",
   "execution_count": null,
   "id": "8029761a-d56b-4c59-9856-0a1065bb6594",
   "metadata": {},
   "outputs": [],
   "source": []
  }
 ],
 "metadata": {
  "kernelspec": {
   "display_name": "Python 3 (ipykernel)",
   "language": "python",
   "name": "python3"
  },
  "language_info": {
   "codemirror_mode": {
    "name": "ipython",
    "version": 3
   },
   "file_extension": ".py",
   "mimetype": "text/x-python",
   "name": "python",
   "nbconvert_exporter": "python",
   "pygments_lexer": "ipython3",
   "version": "3.11.3"
  },
  "toc": {
   "base_numbering": 1,
   "nav_menu": {},
   "number_sections": true,
   "sideBar": true,
   "skip_h1_title": false,
   "title_cell": "Table of Contents",
   "title_sidebar": "Contents",
   "toc_cell": false,
   "toc_position": {},
   "toc_section_display": true,
   "toc_window_display": false
  }
 },
 "nbformat": 4,
 "nbformat_minor": 5
}
